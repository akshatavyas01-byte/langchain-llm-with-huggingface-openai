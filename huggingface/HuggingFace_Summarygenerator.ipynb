{
 "cells": [
  {
   "cell_type": "code",
   "execution_count": 2,
   "id": "2b95c4f1-3478-4862-9347-72f1209db887",
   "metadata": {},
   "outputs": [],
   "source": [
    "def warn(*args,**kwargs):\n",
    "    pass\n",
    "import warnings\n",
    "warnings.warn=warn\n",
    "warnings.filterwarnings('ignore')"
   ]
  },
  {
   "cell_type": "code",
   "execution_count": 3,
   "id": "bb3e9a43-1da9-4d2a-86d0-5903c9161f95",
   "metadata": {},
   "outputs": [],
   "source": [
    "from langchain_huggingface import HuggingFaceEndpoint\n",
    "from langchain_core.prompts import PromptTemplate\n",
    "from langchain_core.runnables import RunnableLambda\n",
    "from langchain_core.output_parsers import StrOutputParser"
   ]
  },
  {
   "cell_type": "code",
   "execution_count": 4,
   "id": "97b1637f-93ee-4613-8d09-894206f183e4",
   "metadata": {},
   "outputs": [],
   "source": [
    "from dotenv import load_dotenv\n",
    "load_dotenv()\n",
    "llm=HuggingFaceEndpoint(\n",
    "    repo_id='Ba2han/TinyOpenHermes-1.1B-4k',\n",
    "    task='text-generation',\n",
    "    max_new_tokens=50,\n",
    "    temperature=0.5,\n",
    "    top_p=0.2,\n",
    "    top_k=1,\n",
    "    repetition_penalty=1.5\n",
    ")"
   ]
  },
  {
   "cell_type": "code",
   "execution_count": 5,
   "id": "b93667f1-4142-4830-a292-bddb11ea7138",
   "metadata": {},
   "outputs": [],
   "source": [
    "template='''Summarise the following content in 2 lines:\n",
    "{content}\n",
    "'''\n",
    "prompt=PromptTemplate.from_template(template)\n",
    "def formatted_prompt(variable):\n",
    "    return prompt.format(**variable)\n",
    "\n",
    "llm_chain=(\n",
    "    RunnableLambda(formatted_prompt)\n",
    "    | llm\n",
    "    | StrOutputParser()\n",
    ")"
   ]
  },
  {
   "cell_type": "code",
   "execution_count": 7,
   "id": "aa9a1893-4b56-4fdc-b7dc-1161559e2e38",
   "metadata": {},
   "outputs": [],
   "source": [
    "content='''\n",
    "Green digital governance refers to the use of information and communication technology (ICT) to support environmentally sustainable policies and practices. It describes a strategy with which an organisation strives to align its information and communications technology with sustainability goals.[12] This can include using digital tools and platforms to monitor and regulate environmental impact, as well as promoting the development and use of clean and renewable energy sources in the technology sector. The goal of green digital governance is to reduce the carbon footprint of the digital economy and to support the transition to a more sustainable and resilient society.\n",
    "'''\n",
    "result=llm_chain.invoke({'content':content})"
   ]
  },
  {
   "cell_type": "code",
   "execution_count": 35,
   "id": "43f8ffe9-136f-4859-a61e-5f07d6d9c353",
   "metadata": {},
   "outputs": [
    {
     "name": "stdout",
     "output_type": "stream",
     "text": [
      "Content: \n",
      "Green digital governance refers to the use of information and communication technology (ICT) to support environmentally sustainable policies and practices. It describes a strategy with which an organisation strives to align its information and communications technology with sustainability goals.[12] This can include using digital tools and platforms to monitor and regulate environmental impact, as well as promoting the development and use of clean and renewable energy sources in the technology sector. The goal of green digital governance is to reduce the carbon footprint of the digital economy and to support the transition to a more sustainable and resilient society.\n",
      "\n",
      "Summary Green Digital Governance Strategy for Sustainably Supporting Environmental Impacts\n"
     ]
    }
   ],
   "source": [
    "print('Content:',content)\n",
    "result=result.replace('### Input:','').replace('### Response:','').strip()\n",
    "print('Summary',result)"
   ]
  },
  {
   "cell_type": "code",
   "execution_count": null,
   "id": "89ae3410-602a-4c80-b251-67154d203268",
   "metadata": {},
   "outputs": [],
   "source": []
  }
 ],
 "metadata": {
  "kernelspec": {
   "display_name": "Python 3 (ipykernel)",
   "language": "python",
   "name": "python3"
  },
  "language_info": {
   "codemirror_mode": {
    "name": "ipython",
    "version": 3
   },
   "file_extension": ".py",
   "mimetype": "text/x-python",
   "name": "python",
   "nbconvert_exporter": "python",
   "pygments_lexer": "ipython3",
   "version": "3.11.1"
  }
 },
 "nbformat": 4,
 "nbformat_minor": 5
}
