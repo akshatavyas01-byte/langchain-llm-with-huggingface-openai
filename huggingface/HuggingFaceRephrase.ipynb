{
 "cells": [
  {
   "cell_type": "code",
   "execution_count": 3,
   "id": "a4a263e2-219a-4dc7-9fb4-5a5a2a53cb11",
   "metadata": {},
   "outputs": [],
   "source": [
    "def warn(*args,**kwargs):\n",
    "    pass\n",
    "import warnings\n",
    "warnings.warn=warn\n",
    "warnings.filterwarnings('ignore')"
   ]
  },
  {
   "cell_type": "code",
   "execution_count": 7,
   "id": "0ab366e7-f315-4da7-a586-c40ef46d3164",
   "metadata": {},
   "outputs": [],
   "source": [
    "from langchain_huggingface import HuggingFaceEndpoint\n",
    "from langchain_huggingface import ChatHuggingFace\n",
    "from langchain_core.prompts import ChatPromptTemplate, PromptTemplate\n",
    "from dotenv import load_dotenv"
   ]
  },
  {
   "cell_type": "code",
   "execution_count": 5,
   "id": "fb430592-e8b7-4894-820b-70e0dc306248",
   "metadata": {},
   "outputs": [],
   "source": [
    "load_dotenv()\n",
    "llm=HuggingFaceEndpoint(\n",
    "    repo_id='meta-llama/Llama-3.1-8B-Instruct',\n",
    "    max_new_tokens=20,\n",
    "    temperature=0.5,\n",
    "    top_p=0.2,\n",
    "    top_k=1,\n",
    "    repetition_penalty=1.5\n",
    ")"
   ]
  },
  {
   "cell_type": "code",
   "execution_count": 6,
   "id": "f48ccaf1-53d3-4b74-a70a-19cafe87bbea",
   "metadata": {},
   "outputs": [],
   "source": [
    "chat_model=ChatHuggingFace(llm=llm) # Chat model wrapper for Huggingface provided by langchain \n"
   ]
  },
  {
   "cell_type": "code",
   "execution_count": 13,
   "id": "77484436-0442-4a23-aada-e82cd9107e6b",
   "metadata": {},
   "outputs": [],
   "source": [
    "prompt=ChatPromptTemplate.from_messages(\n",
    "    [\n",
    "        ('system','You are a smart assitant that will rewrite a given sentence in a different tone while preserving meaning.'),\n",
    "        ('user','{usercontent}')\n",
    "    ]\n",
    ")#used for conversational chat models inference \n",
    "\n",
    "usertemplate='''\n",
    "Rewrite the given sentence in {tone} way:\n",
    "Sentence={sentence}\n",
    "'''\n",
    "\n",
    "userprompt=PromptTemplate.from_template(usertemplate)"
   ]
  },
  {
   "cell_type": "code",
   "execution_count": 17,
   "id": "2f1dadcf-e330-41a0-8166-94b189efa494",
   "metadata": {},
   "outputs": [],
   "source": [
    "chat_chain=prompt | chat_model #llmchain"
   ]
  },
  {
   "cell_type": "code",
   "execution_count": 18,
   "id": "f6ddcda3-be98-47db-bd76-94c50dfebba9",
   "metadata": {},
   "outputs": [
    {
     "name": "stdin",
     "output_type": "stream",
     "text": [
      "Would you like to repharse your sentences?(y/n): y\n",
      "Please enter a sentence: She is badass.\n",
      "Choose your tone (Formal / Casual / Academic): Formal\n"
     ]
    },
    {
     "name": "stdout",
     "output_type": "stream",
     "text": [
      "She possesses an unwavering display of assertiveness and unrelenting determination.\n"
     ]
    },
    {
     "name": "stdin",
     "output_type": "stream",
     "text": [
      "Would you like to repharse your sentences?(y/n): People were too hard on her.\n"
     ]
    }
   ],
   "source": [
    "while True:\n",
    "    answer=input('Would you like to repharse your sentences?(y/n):')\n",
    "    if answer.lower()=='y':\n",
    "        sentence=input('Please enter a sentence:')\n",
    "        tone=input('Choose your tone (Formal / Casual / Academic):')\n",
    "        usercontent=userprompt.format(tone=tone,sentence=sentence)\n",
    "        Result=chat_chain.invoke({'usercontent':usercontent})\n",
    "        print(Result.content)\n",
    "    else:\n",
    "        break"
   ]
  },
  {
   "cell_type": "code",
   "execution_count": null,
   "id": "20d956bd-831f-4e80-b4c4-90c80cfbd63d",
   "metadata": {},
   "outputs": [],
   "source": []
  }
 ],
 "metadata": {
  "kernelspec": {
   "display_name": "Python 3 (ipykernel)",
   "language": "python",
   "name": "python3"
  },
  "language_info": {
   "codemirror_mode": {
    "name": "ipython",
    "version": 3
   },
   "file_extension": ".py",
   "mimetype": "text/x-python",
   "name": "python",
   "nbconvert_exporter": "python",
   "pygments_lexer": "ipython3",
   "version": "3.11.1"
  }
 },
 "nbformat": 4,
 "nbformat_minor": 5
}
