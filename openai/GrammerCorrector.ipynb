{
 "cells": [
  {
   "cell_type": "code",
   "execution_count": 12,
   "id": "361ef9c1-a61f-4aab-93c1-001aa80bc1df",
   "metadata": {},
   "outputs": [],
   "source": [
    "from langchain_openai import ChatOpenAI\n",
    "from langchain_core.prompts import ChatPromptTemplate"
   ]
  },
  {
   "cell_type": "code",
   "execution_count": 32,
   "id": "97eae1f7-95f6-4c97-b36d-d01f71fb5baa",
   "metadata": {
    "scrolled": true
   },
   "outputs": [],
   "source": [
    "from dotenv import load_dotenv\n",
    "load_dotenv()\n",
    "llm=ChatOpenAI(\n",
    "    model=\"gpt-4o-mini\",\n",
    "    temperature=0.5,\n",
    "    top_p=0.2,\n",
    "    max_tokens=20,\n",
    ")\n"
   ]
  },
  {
   "cell_type": "code",
   "execution_count": 35,
   "id": "18ef37f8-9750-4df7-bfc8-20e9ece7801a",
   "metadata": {},
   "outputs": [
    {
     "name": "stdin",
     "output_type": "stream",
     "text": [
      "Enter the sentence to be corrected: She do not nice girl.\n"
     ]
    }
   ],
   "source": [
    "prompt=ChatPromptTemplate.from_messages(\n",
    "    [\n",
    "        ('system','Act as grammer instructor that will correct the grammatical mistakes in sentence and return the correct sentence'),\n",
    "        ('user','Correct the grammatical error form the following sentence: The tree tall me short'),\n",
    "        ('ai','Sentence:\"The tree tall me short\" Correct Sentence: \"The tree makes me feel short.\"'),\n",
    "        ('user','Do this sentence too:{sentence}')\n",
    "    ]\n",
    ")\n",
    "Sentence=input('Enter the sentence to be corrected:')"
   ]
  },
  {
   "cell_type": "code",
   "execution_count": 36,
   "id": "639ea0fe-a092-498f-b24c-52035a55616a",
   "metadata": {},
   "outputs": [],
   "source": [
    "chain= prompt | llm\n",
    "result=chain.invoke({'sentence':Sentence})\n"
   ]
  },
  {
   "cell_type": "code",
   "execution_count": 37,
   "id": "d00b8174-58c6-460e-b901-4cc2775372da",
   "metadata": {},
   "outputs": [
    {
     "name": "stdout",
     "output_type": "stream",
     "text": [
      "content='Correct Sentence: \"She is not a nice girl.\"' additional_kwargs={'refusal': None} response_metadata={'token_usage': {'completion_tokens': 11, 'prompt_tokens': 81, 'total_tokens': 92, 'completion_tokens_details': {'accepted_prediction_tokens': 0, 'audio_tokens': 0, 'reasoning_tokens': 0, 'rejected_prediction_tokens': 0}, 'prompt_tokens_details': {'audio_tokens': 0, 'cached_tokens': 0}}, 'model_provider': 'openai', 'model_name': 'gpt-4o-mini-2024-07-18', 'system_fingerprint': 'fp_560af6e559', 'id': 'chatcmpl-CUa1uPCI4PHsH4JBFOIkS2vo355RM', 'service_tier': 'default', 'finish_reason': 'stop', 'logprobs': None} id='lc_run--4a97027e-6538-4cba-bfe5-85742c2a39b1-0' usage_metadata={'input_tokens': 81, 'output_tokens': 11, 'total_tokens': 92, 'input_token_details': {'audio': 0, 'cache_read': 0}, 'output_token_details': {'audio': 0, 'reasoning': 0}}\n"
     ]
    }
   ],
   "source": [
    "print(result)"
   ]
  },
  {
   "cell_type": "code",
   "execution_count": 38,
   "id": "57470a2a-47e6-4226-b955-ca8dc2ccf0f0",
   "metadata": {},
   "outputs": [
    {
     "name": "stdout",
     "output_type": "stream",
     "text": [
      "Correct Sentence: \"She is not a nice girl.\"\n"
     ]
    }
   ],
   "source": [
    "print(result.content)"
   ]
  },
  {
   "cell_type": "code",
   "execution_count": null,
   "id": "a03116e7-3401-444e-a750-7c06d7daf730",
   "metadata": {},
   "outputs": [],
   "source": []
  }
 ],
 "metadata": {
  "kernelspec": {
   "display_name": "Python 3 (ipykernel)",
   "language": "python",
   "name": "python3"
  },
  "language_info": {
   "codemirror_mode": {
    "name": "ipython",
    "version": 3
   },
   "file_extension": ".py",
   "mimetype": "text/x-python",
   "name": "python",
   "nbconvert_exporter": "python",
   "pygments_lexer": "ipython3",
   "version": "3.11.1"
  }
 },
 "nbformat": 4,
 "nbformat_minor": 5
}
