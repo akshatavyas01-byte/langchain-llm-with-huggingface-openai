{
 "cells": [
  {
   "cell_type": "code",
   "execution_count": 2,
   "id": "bb03d274-233f-42e1-b384-ff4b6cf16735",
   "metadata": {},
   "outputs": [],
   "source": [
    "from dotenv import load_dotenv\n",
    "from langchain_huggingface import HuggingFaceEndpoint\n",
    "from langchain_core.prompts import PromptTemplate\n",
    "from langchain_core.runnables import RunnableLambda\n",
    "from langchain_core.output_parsers import StrOutputParser\n",
    "import os \n",
    "load_dotenv()\n",
    "#print(os.getenv('HUGGINGFACEHUB_API_TOKEN')) #to check if token is set properly\n",
    "llm=HuggingFaceEndpoint( #HuggingFaceEndpoint is LangChain wrapper from HuggingFaceHub\n",
    "    repo_id=\"Ba2han/TinyOpenHermes-1.1B-4k\", #is LLM model with inference not in the conversational pattern\n",
    "    task=\"text-generation\", #In this wrapper it is by default text generation\n",
    "    max_new_tokens=35,\n",
    "    repetition_penalty= 1.2,# penlise if the words are repeated\n",
    "    temperature=0.2,\n",
    "    top_p=0.2,\n",
    "    top_k=1,\n",
    ")\n",
    "template = '''\n",
    "You are a professional translator.\n",
    "Task: Translate the following English sentence to {language}.\n",
    "Input: {sentence}\n",
    "Output:\n",
    "'''\n",
    "\n",
    "prompt = PromptTemplate.from_template(template)\n",
    "def formatted_prompt(variable): #fuction that will be called to format prompts properly but in other programs you will noticw it is not used anymore\n",
    "    return prompt.format(**variable)"
   ]
  },
  {
   "cell_type": "code",
   "execution_count": 3,
   "id": "64988362-e676-4b48-a492-922b5ab1fba1",
   "metadata": {},
   "outputs": [],
   "source": [
    "translation_chain=(\n",
    "    RunnableLambda(formatted_prompt) #RunnableLambda runs the fuction with the input \n",
    "    |llm\n",
    "    |StrOutputParser()\n",
    ")"
   ]
  },
  {
   "cell_type": "code",
   "execution_count": null,
   "id": "9864e404-eb51-42a0-ba3d-f2b38f0c3558",
   "metadata": {},
   "outputs": [
    {
     "name": "stdin",
     "output_type": "stream",
     "text": [
      "Do you want to translate an English sentence to your prefered language?(yes/no) yes\n",
      "Enter the sentence you want to translate: My name is Nevaan.\n",
      "Enter the language you want it to be translated: Spanih\n"
     ]
    },
    {
     "name": "stdout",
     "output_type": "stream",
     "text": [
      "Sentence: My name is Nevaan.\n",
      "SPANIH: Translation: Mi nombre es Nevaan.\n"
     ]
    },
    {
     "name": "stdin",
     "output_type": "stream",
     "text": [
      "Do you want to translate an English sentence to your prefered language?(yes/no) yes\n",
      "Enter the sentence you want to translate: I love Indian.\n",
      "Enter the language you want it to be translated: French\n"
     ]
    },
    {
     "name": "stdout",
     "output_type": "stream",
     "text": [
      "Sentence: I love Indian.\n",
      "FRENCH: The translation of \"I love Indian\" in French is \"J'aime l'Inde.\"\n"
     ]
    },
    {
     "name": "stdin",
     "output_type": "stream",
     "text": [
      "Do you want to translate an English sentence to your prefered language?(yes/no) yes\n",
      "Enter the sentence you want to translate: I love you.\n",
      "Enter the language you want it to be translated: Italian\n"
     ]
    },
    {
     "name": "stdout",
     "output_type": "stream",
     "text": [
      "Sentence: I love you.\n",
      "ITALIAN: Italian translation of \"I love you\" is:\n",
      "\"Ciao, amore te.\"\n"
     ]
    }
   ],
   "source": [
    "while True:\n",
    "    answer=input('Do you want to translate an English sentence to your prefered language?(yes/no)')\n",
    "    if answer.lower() in ['yes','y','yup','ya']:\n",
    "        sentence=input('Enter the sentence you want to translate:')\n",
    "        language=input('Enter the language you want it to be translated:')\n",
    "        result=translation_chain.invoke({'language':language,'sentence':sentence})\n",
    "        print('Sentence:',sentence)\n",
    "        result = result.replace(\"### Input:\", \"\").replace(\"### Response:\", \"\").strip()\n",
    "        print(f'{language.upper()}: {result}')\n",
    "    \n",
    "    else:\n",
    "        print('Good Bye!! Thank you for trying me!')\n",
    "        break"
   ]
  },
  {
   "cell_type": "code",
   "execution_count": null,
   "id": "0243d94b-bbb8-4b8a-9cea-2916b32429e8",
   "metadata": {},
   "outputs": [],
   "source": []
  }
 ],
 "metadata": {
  "kernelspec": {
   "display_name": "Python 3 (ipykernel)",
   "language": "python",
   "name": "python3"
  },
  "language_info": {
   "codemirror_mode": {
    "name": "ipython",
    "version": 3
   },
   "file_extension": ".py",
   "mimetype": "text/x-python",
   "name": "python",
   "nbconvert_exporter": "python",
   "pygments_lexer": "ipython3",
   "version": "3.11.1"
  }
 },
 "nbformat": 4,
 "nbformat_minor": 5
}
