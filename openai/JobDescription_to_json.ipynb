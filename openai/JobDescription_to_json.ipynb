{
 "cells": [
  {
   "cell_type": "code",
   "execution_count": 2,
   "id": "c7fd7e57-4036-4c0a-b7be-2a5456b1b09d",
   "metadata": {},
   "outputs": [],
   "source": [
    "from langchain_openai import ChatOpenAI\n",
    "from langchain_core.prompts import PromptTemplate, ChatPromptTemplate\n",
    "from langchain_core.output_parsers import JsonOutputParser\n",
    "from dotenv import load_dotenv"
   ]
  },
  {
   "cell_type": "code",
   "execution_count": 18,
   "id": "310f5096-5aa6-4b7b-8ba4-09ac63dd8e5e",
   "metadata": {},
   "outputs": [],
   "source": [
    "load_dotenv()\n",
    "chatllm=ChatOpenAI(\n",
    "    model='gpt-4o-mini',\n",
    "    temperature=0.2,\n",
    "    max_tokens=60,\n",
    "    top_p=0.2\n",
    ")"
   ]
  },
  {
   "cell_type": "code",
   "execution_count": 19,
   "id": "11129507-a6fd-490d-a9be-cb1ef044ab48",
   "metadata": {},
   "outputs": [],
   "source": [
    "outputparser=JsonOutputParser()\n",
    "Chat_prompt=ChatPromptTemplate([\n",
    "    ('system','You are a smart assitant that takes a unstuctured job description return a stuctured job description as Json object. If the field is empty don\\'t include it but don\\'t return empty fields.'),\n",
    "    ('user','Generate the json object for this Job Description:{Job_description}')\n",
    "])\n",
    "chain=(\n",
    "    Chat_prompt \n",
    "    | chatllm \n",
    "    | outputparser\n",
    ")"
   ]
  },
  {
   "cell_type": "code",
   "execution_count": 20,
   "id": "0df075c5-5b30-4438-8e4e-83a8a1f80830",
   "metadata": {},
   "outputs": [
    {
     "name": "stdin",
     "output_type": "stream",
     "text": [
      "Do you want a strucuted Job Description?(y/n): y\n",
      "Enter the Job Description: We are seeking a Senior Python Developer to join our remote team. Candidates must have at least 5 years of experience developing RESTful APIs and working with cloud platforms. Knowledge of data science is a plus. Apply now!\n"
     ]
    },
    {
     "name": "stdout",
     "output_type": "stream",
     "text": [
      "{'job_title': 'Senior Python Developer', 'job_type': 'Remote', 'experience_required': '5 years', 'skills': ['RESTful APIs', 'cloud platforms', 'data science']}\n"
     ]
    },
    {
     "name": "stdin",
     "output_type": "stream",
     "text": [
      "Do you want a strucuted Job Description?(y/n): n\n"
     ]
    }
   ],
   "source": [
    "while True:\n",
    "    answer=input('Do you want a strucuted Job Description?(y/n):')\n",
    "    if answer.lower()=='y':\n",
    "        job_description=input('Enter the Job Description:')\n",
    "        result=chain.invoke({'Job_description':job_description})\n",
    "        print(result)\n",
    "    else:\n",
    "        break"
   ]
  },
  {
   "cell_type": "code",
   "execution_count": null,
   "id": "5ae8dbd8-350d-4a38-bec7-88adc7ce7125",
   "metadata": {},
   "outputs": [],
   "source": []
  }
 ],
 "metadata": {
  "kernelspec": {
   "display_name": "Python 3 (ipykernel)",
   "language": "python",
   "name": "python3"
  },
  "language_info": {
   "codemirror_mode": {
    "name": "ipython",
    "version": 3
   },
   "file_extension": ".py",
   "mimetype": "text/x-python",
   "name": "python",
   "nbconvert_exporter": "python",
   "pygments_lexer": "ipython3",
   "version": "3.11.1"
  }
 },
 "nbformat": 4,
 "nbformat_minor": 5
}
